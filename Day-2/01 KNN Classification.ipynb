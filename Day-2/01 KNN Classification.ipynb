{
 "cells": [
  {
   "cell_type": "code",
   "execution_count": 1,
   "metadata": {},
   "outputs": [],
   "source": [
    "import numpy as np\n",
    "import matplotlib.pyplot as plt"
   ]
  },
  {
   "cell_type": "code",
   "execution_count": 77,
   "metadata": {},
   "outputs": [
    {
     "name": "stdout",
     "output_type": "stream",
     "text": [
      "(100, 2)\n",
      "(100,)\n"
     ]
    }
   ],
   "source": [
    "# Dataload\n",
    "X = np.load('../Resources/Sample Data/X.npy')\n",
    "Y = np.load('../Resources/Sample Data/Y.npy')\n",
    "\n",
    "print(X.shape)\n",
    "print(Y.shape)\n",
    "\n",
    "# Visualise \n",
    "\n",
    "test_point = np.array([9.6,1])"
   ]
  },
  {
   "cell_type": "code",
   "execution_count": 78,
   "metadata": {},
   "outputs": [
    {
     "data": {
      "image/png": "[encoded data removed]",
      "text/plain": [
       "<Figure size 576x396 with 1 Axes>"
      ]
     },
     "metadata": {},
     "output_type": "display_data"
    }
   ],
   "source": [
    "plt.style.use(\"seaborn\")\n",
    "plt.scatter(test_point[0],test_point[1],color='red')\n",
    "plt.scatter(X[:,0],X[:,1],c=Y,cmap=plt.cm.Accent) #Clear?\n",
    "plt.show()"
   ]
  },
  {
   "cell_type": "code",
   "execution_count": 35,
   "metadata": {},
   "outputs": [],
   "source": [
    "# dictionary\n",
    "\n",
    "mapping = {\n",
    "    0 : \"kiwi\",\n",
    "    1 : \"blackfruit\",\n",
    "}"
   ]
  },
  {
   "cell_type": "code",
   "execution_count": 81,
   "metadata": {},
   "outputs": [],
   "source": [
    "# KNN Algorithm\n",
    "# How to find out K-Nearest Points ?\n",
    "# Creating a Function in Python\n",
    "def dist(p1,p2):\n",
    "    return np.sum((p1-p2)**2)**.5\n",
    "\n",
    "def KNN(X,Y,test_point,k=5):\n",
    "    d = []\n",
    "    # Find distance of test point from all other points\n",
    "    m = X.shape[0]\n",
    "    \n",
    "    for i in range(m):\n",
    "        current_dist= dist(test_point,X[i])\n",
    "        d.append((current_dist,Y[i]))\n",
    "    \n",
    "    # Second Step \n",
    "    d.sort()\n",
    "    \n",
    "    # Pick the nearest 5\n",
    "    d = np.array(d)\n",
    "    labels = d[:5,1]\n",
    "    uniq, counts = np.unique(labels,return_counts=True)\n",
    "    #print(uniq,counts)\n",
    "    \n",
    "    idx =np.argmax(counts)\n",
    "    pred = int(uniq[idx])\n",
    "    return pred\n",
    "       "
   ]
  },
  {
   "cell_type": "code",
   "execution_count": 82,
   "metadata": {},
   "outputs": [
    {
     "name": "stdout",
     "output_type": "stream",
     "text": [
      "kiwi\n"
     ]
    }
   ],
   "source": [
    "pred = KNN(X,Y,test_point)\n",
    "output = mapping[pred]\n",
    "print(output)"
   ]
  },
  {
   "cell_type": "code",
   "execution_count": 73,
   "metadata": {},
   "outputs": [
    {
     "name": "stdout",
     "output_type": "stream",
     "text": [
      "3\n"
     ]
    }
   ],
   "source": [
    "a = np.array([1, 2, 1, 5,0])\n",
    "\n",
    "print(np.argmax(a))"
   ]
  },
  {
   "cell_type": "code",
   "execution_count": 85,
   "metadata": {},
   "outputs": [
    {
     "name": "stdout",
     "output_type": "stream",
     "text": [
      "[0 1 2]\n",
      "[2 4 1]\n"
     ]
    }
   ],
   "source": [
    "a = np.array([1,1,1,1,0,0,2])\n",
    "\n",
    "uniq,counts =  np.unique(a,return_counts=True)\n",
    "print(uniq)\n",
    "print(counts)"
   ]
  },
  {
   "cell_type": "code",
   "execution_count": 84,
   "metadata": {},
   "outputs": [
    {
     "name": "stdout",
     "output_type": "stream",
     "text": [
      "10\n",
      "15\n"
     ]
    }
   ],
   "source": [
    "a,b = 10,15\n",
    "print(a)\n",
    "print(b)"
   ]
  },
  {
   "cell_type": "code",
   "execution_count": null,
   "metadata": {},
   "outputs": [],
   "source": []
  }
 ],
 "metadata": {
  "kernelspec": {
   "display_name": "Python 3",
   "language": "python",
   "name": "python3"
  },
  "language_info": {
   "codemirror_mode": {
    "name": "ipython",
    "version": 3
   },
   "file_extension": ".py",
   "mimetype": "text/x-python",
   "name": "python",
   "nbconvert_exporter": "python",
   "pygments_lexer": "ipython3",
   "version": "3.8.0"
  }
 },
 "nbformat": 4,
 "nbformat_minor": 2
}
